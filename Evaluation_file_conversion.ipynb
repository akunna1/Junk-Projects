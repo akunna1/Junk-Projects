{
 "cells": [
  {
   "cell_type": "markdown",
   "id": "cb84087a",
   "metadata": {},
   "source": [
    "# Neptune Technologies Job Application File Conversion"
   ]
  },
  {
   "cell_type": "markdown",
   "id": "c1cda8e6",
   "metadata": {},
   "source": [
    "##### Importing neccessary libraries"
   ]
  },
  {
   "cell_type": "code",
   "execution_count": 1,
   "id": "3fe582b8",
   "metadata": {},
   "outputs": [],
   "source": [
    "import os  # to perform tasks like reading file names from directories and managing file paths.\n",
    "import docx # for working with .docx files. It allows one to create, modify, and read MS word documents.\n",
    "import PyPDF2  # for working with PDF files. It provides functions for reading, manipulating, and extracting text and data from PDFs\n",
    "import docx2txt  # specifically designed to extract text from MS Word .doc files and convert them into plain text format (usually .txt files)"
   ]
  },
  {
   "cell_type": "markdown",
   "id": "89507521",
   "metadata": {},
   "source": [
    "### Setting Directories and  Converting input files to .txt format"
   ]
  },
  {
   "cell_type": "code",
   "execution_count": 2,
   "id": "6d640b52",
   "metadata": {},
   "outputs": [],
   "source": [
    "# Defining the input and output file paths\n",
    "input_dir = \"C:\\\\Users\\\\akunna1\\\\Desktop\\\\Projects\\\\Project_3\\\\project_directory\\\\GC_Downloads\" # folder for all the downloads from GC\n",
    "output_dir = \"C:\\\\Users\\\\akunna1\\\\Desktop\\\\Projects\\\\Project_3\\\\project_directory\\\\GC_Downloads_txt\"  # GC_Downloads_txt folder"
   ]
  },
  {
   "cell_type": "code",
   "execution_count": 3,
   "id": "6c6c874d",
   "metadata": {},
   "outputs": [
    {
     "name": "stdout",
     "output_type": "stream",
     "text": [
      "File conversions Completed!\n"
     ]
    }
   ],
   "source": [
    "# Function to convert .docx to .txt\n",
    "def convert_docx_to_txt(docx_file, txt_file):\n",
    "    doc = docx.Document(docx_file)\n",
    "    with open(txt_file, \"w\", encoding=\"utf-8\") as txt:\n",
    "        for paragraph in doc.paragraphs:\n",
    "            txt.write(paragraph.text + \"\\n\")\n",
    "\n",
    "# Function to convert .pdf to .txt\n",
    "def convert_pdf_to_txt(pdf_file, txt_file):\n",
    "    pdf = PyPDF2.PdfFileReader(open(pdf_file, \"rb\"))\n",
    "    with open(txt_file, \"w\", encoding=\"utf-8\") as txt:\n",
    "        for page in range(pdf.numPages):\n",
    "            txt.write(pdf.getPage(page).extractText())\n",
    "\n",
    "# Function to convert .doc to .txt using docx2txt\n",
    "def convert_doc_to_txt(doc_file, txt_file):\n",
    "    text = docx2txt.process(doc_file)\n",
    "    with open(txt_file, \"w\", encoding=\"utf-8\") as txt:\n",
    "        txt.write(text)\n",
    "\n",
    "# Looping through the files in the input directory\n",
    "for filename in os.listdir(input_dir):\n",
    "    if filename.startswith(\"~$\"):\n",
    "        # Skip temporary files\n",
    "        continue\n",
    "    if filename.endswith(\".docx\"):\n",
    "        docx_file = os.path.join(input_dir, filename)\n",
    "        txt_file = os.path.join(output_dir, filename.replace(\".docx\", \".txt\"))\n",
    "        convert_docx_to_txt(docx_file, txt_file)\n",
    "    elif filename.endswith(\".pdf\"):\n",
    "        pdf_file = os.path.join(input_dir, filename)\n",
    "        txt_file = os.path.join(output_dir, filename.replace(\".pdf\", \".txt\"))\n",
    "        convert_pdf_to_txt(pdf_file, txt_file)\n",
    "    elif filename.endswith(\".doc\"):\n",
    "        doc_file = os.path.join(input_dir, filename)\n",
    "        txt_file = os.path.join(output_dir, filename.replace(\".doc\", \".txt\"))\n",
    "        convert_doc_to_txt(doc_file, txt_file)\n",
    "    else:\n",
    "        print(f\"Ignoring file: {filename} (unsupported format)\")\n",
    "\n",
    "# Printing the completion message\n",
    "print(\"File conversions Completed!\")"
   ]
  }
 ],
 "metadata": {
  "kernelspec": {
   "display_name": "Python 3",
   "language": "python",
   "name": "python3"
  },
  "language_info": {
   "codemirror_mode": {
    "name": "ipython",
    "version": 3
   },
   "file_extension": ".py",
   "mimetype": "text/x-python",
   "name": "python",
   "nbconvert_exporter": "python",
   "pygments_lexer": "ipython3",
   "version": "3.9.11"
  }
 },
 "nbformat": 4,
 "nbformat_minor": 5
}
