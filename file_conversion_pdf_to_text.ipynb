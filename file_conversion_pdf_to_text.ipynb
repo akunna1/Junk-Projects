{
 "cells": [
  {
   "cell_type": "markdown",
   "id": "d1162163",
   "metadata": {},
   "source": [
    "## File Conversion of .pdf to .txt"
   ]
  },
  {
   "cell_type": "markdown",
   "id": "98cc2d7f",
   "metadata": {},
   "source": [
    "##### Importing neccessary libraries"
   ]
  },
  {
   "cell_type": "code",
   "execution_count": 1,
   "id": "465e918b",
   "metadata": {},
   "outputs": [],
   "source": [
    "import os  # to perform tasks like reading file names from directories and managing file paths.\n",
    "import fitz  # PyMuPDF"
   ]
  },
  {
   "cell_type": "markdown",
   "id": "d3ddcdf6",
   "metadata": {},
   "source": [
    "##### Setting Directory and Coverting Files"
   ]
  },
  {
   "cell_type": "code",
   "execution_count": 2,
   "id": "16b91b35",
   "metadata": {},
   "outputs": [],
   "source": [
    "# Defining the input and output file paths\n",
    "input_dir = \"C:\\\\Users\\\\akunna1\\\\Desktop\\\\Projects\\\\Project_5\\\\Resumes_50\\\\input_resumes\"\n",
    "output_dir = \"C:\\\\Users\\\\akunna1\\\\Desktop\\\\Projects\\\\Project_5\\\\Resumes_50\\\\output_resumes\""
   ]
  },
  {
   "cell_type": "code",
   "execution_count": 3,
   "id": "923a54e7",
   "metadata": {},
   "outputs": [
    {
     "name": "stdout",
     "output_type": "stream",
     "text": [
      "File conversions Completed!\n"
     ]
    }
   ],
   "source": [
    "# Function to convert .pdf to .txt\n",
    "def convert_pdf_to_txt(pdf_file, txt_file):\n",
    "    pdf_document = fitz.open(pdf_file)\n",
    "    with open(txt_file, \"w\", encoding=\"utf-8\") as txt:\n",
    "        for page_number in range(pdf_document.page_count):\n",
    "            page = pdf_document[page_number]\n",
    "            text = page.get_text()\n",
    "            txt.write(text)\n",
    "\n",
    "# Looping through the PDF files in the input directory\n",
    "for filename in os.listdir(input_dir):\n",
    "    if filename.endswith(\".pdf\"):\n",
    "        pdf_file = os.path.join(input_dir, filename)\n",
    "        txt_file = os.path.join(output_dir, filename.replace(\".pdf\", \".txt\"))\n",
    "        convert_pdf_to_txt(pdf_file, txt_file)\n",
    "    else:\n",
    "        print(f\"Ignoring file: {filename} (unsupported format)\")\n",
    "\n",
    "# Printing the completion message\n",
    "print(\"File conversions Completed!\")"
   ]
  }
 ],
 "metadata": {
  "kernelspec": {
   "display_name": "Python 3",
   "language": "python",
   "name": "python3"
  },
  "language_info": {
   "codemirror_mode": {
    "name": "ipython",
    "version": 3
   },
   "file_extension": ".py",
   "mimetype": "text/x-python",
   "name": "python",
   "nbconvert_exporter": "python",
   "pygments_lexer": "ipython3",
   "version": "3.9.11"
  }
 },
 "nbformat": 4,
 "nbformat_minor": 5
}
